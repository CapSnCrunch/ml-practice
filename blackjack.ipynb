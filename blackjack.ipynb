{
 "cells": [
  {
   "cell_type": "markdown",
   "id": "53d0b239-b886-4dcb-8d75-ba2b4269d32a",
   "metadata": {},
   "source": [
    "# Blackjack Implementation\n",
    "\n",
    "Assumptions:\n",
    "- Drawing from an infinite deck (doesn't matter if we count cards)\n",
    "- Useable Ace vs Ace"
   ]
  },
  {
   "cell_type": "code",
   "execution_count": 41,
   "id": "a549786e-c458-411d-8693-5be7825aef9b",
   "metadata": {},
   "outputs": [],
   "source": [
    "import numpy as np\n",
    "\n",
    "class Player():\n",
    "    def __init__(self):\n",
    "        self.cards = np.array([1, 2], dtype=\"int\")\n",
    "        self.hit(2)\n",
    "    \n",
    "    def value(self):\n",
    "        hand_sum = np.sum(self.cards)\n",
    "        if 1 not in self.cards:\n",
    "            return (hand_sum, False)\n",
    "\n",
    "        aces = np.bincount(self.cards)[1]\n",
    "        usable_ace = hand_sum - (aces - 1) <= 10\n",
    "        if usable_ace:\n",
    "            return (hand_sum + 10, True)\n",
    "        \n",
    "        return (hand_sum, False)\n",
    "        \n",
    "    def hit(self, n=1):\n",
    "        for i in range(n):\n",
    "            random_card = np.random.choice([x for x in range(1, 11)], 1, p=[1/13 for x in range(1, 10)] + [4/13])\n",
    "            self.cards = np.append(self.cards, [random_card])\n",
    "\n",
    "    def bust(self):\n",
    "        return self.value() > 21\n",
    "\n",
    "class Blackjack():\n",
    "    def __init__(self, model):\n",
    "        self.player = Player()\n",
    "        self.dealer = Player()\n",
    "        self.model = model\n",
    "\n",
    "    def reward(self):\n",
    "        if self.player.bust():\n",
    "            return -1\n",
    "\n",
    "        if self.dealer.bust():\n",
    "            return 1\n",
    "\n",
    "        if self.player.value() >= self.dealer.value():\n",
    "            return 1\n",
    "\n",
    "        return 0\n",
    "    \n",
    "    def play(self):\n",
    "        # Player's Turn\n",
    "        while True:\n",
    "            player_hit = model.hit(self.player.value(), self.dealer.cards[0])\n",
    "            if player_hit:\n",
    "                self.player.hit()\n",
    "                if self.player.bust():\n",
    "                    break\n",
    "                continue\n",
    "            break\n",
    "            \n",
    "        # Dealer's Turn\n",
    "        while True:\n",
    "            dealer_hit = self.dealer.value() < 17\n",
    "            if dealer_hit:\n",
    "                self.dealer.hit()\n",
    "                if self.dealer.bust():\n",
    "                    break\n",
    "                continue\n",
    "            break\n",
    "        \n",
    "        return self.reward()"
   ]
  },
  {
   "cell_type": "markdown",
   "id": "dbdc34d5-3487-4a33-ad0a-7e93e6f0221c",
   "metadata": {},
   "source": [
    "# Setup"
   ]
  },
  {
   "cell_type": "code",
   "execution_count": null,
   "id": "54140079-b773-45b1-823e-315186b7c184",
   "metadata": {},
   "outputs": [],
   "source": [
    "class Policy():\n",
    "    def action_prob(self,state:int,action:int) -> float:\n",
    "        \"\"\"\n",
    "        input:\n",
    "            state, action\n",
    "        return:\n",
    "            \\pi(a|s)\n",
    "        \"\"\"\n",
    "        raise NotImplementedError()\n",
    "\n",
    "    def action(self,state:int) -> int:\n",
    "        \"\"\"\n",
    "        input:\n",
    "            state\n",
    "        return:\n",
    "            action\n",
    "        \"\"\"\n",
    "        raise NotImplementedError()"
   ]
  },
  {
   "cell_type": "markdown",
   "id": "1f3da01d-ef99-46a5-a73b-3280cd19b880",
   "metadata": {},
   "source": [
    "# Monte Carlo\n",
    "\n",
    "## Variations\n",
    "- Exploring Starts (for pi)\n",
    "    - First-Visit MC (for v)\n",
    "    - Every-Visit MC (for v)\n",
    "- On-Policy MC Control (for pi)\n",
    "    - First-Visit MC (for v)\n",
    "    - Every-Visit MC (for v)\n",
    "- Off-Policy (for pi) (Importance Sampling)\n",
    "    - MC Control\n",
    "    - Incremental Implementation"
   ]
  },
  {
   "cell_type": "code",
   "execution_count": null,
   "id": "8a23c3e7-15ea-4297-ac00-46bb60c79df0",
   "metadata": {},
   "outputs": [],
   "source": [
    "class MonteCarlo():\n",
    "    def __init__(self):\n",
    "        self.Q = np.zeros((21, 2, 11, 2))\n",
    "        self.C = np.zeros((21, 2, 11, 2))\n",
    "\n",
    "    def estimate(self):\n",
    "        "
   ]
  },
  {
   "cell_type": "markdown",
   "id": "759cc920-2d78-48e6-906f-cbe0d01fdf38",
   "metadata": {},
   "source": [
    "# Temporal Difference\n",
    "\n",
    "## Sarsa\n",
    "\n",
    "## Q-Learning\n",
    "\n",
    "## Expected Sarsa"
   ]
  },
  {
   "cell_type": "code",
   "execution_count": null,
   "id": "f65a661d-fc35-48b6-859c-1835f446b0b2",
   "metadata": {},
   "outputs": [],
   "source": []
  }
 ],
 "metadata": {
  "kernelspec": {
   "display_name": "Python (ml-kernel)",
   "language": "python",
   "name": "ml-kernel"
  },
  "language_info": {
   "codemirror_mode": {
    "name": "ipython",
    "version": 3
   },
   "file_extension": ".py",
   "mimetype": "text/x-python",
   "name": "python",
   "nbconvert_exporter": "python",
   "pygments_lexer": "ipython3",
   "version": "3.11.9"
  }
 },
 "nbformat": 4,
 "nbformat_minor": 5
}
